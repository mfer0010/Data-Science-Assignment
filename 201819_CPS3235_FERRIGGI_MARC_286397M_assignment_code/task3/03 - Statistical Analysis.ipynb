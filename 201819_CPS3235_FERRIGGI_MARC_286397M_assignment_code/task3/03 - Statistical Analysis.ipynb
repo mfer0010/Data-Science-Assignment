{
 "cells": [
  {
   "cell_type": "code",
   "execution_count": 1,
   "metadata": {},
   "outputs": [
    {
     "name": "stdout",
     "output_type": "stream",
     "text": [
      "Once deleted, variables cannot be recovered. Proceed (y/[n])? y\n"
     ]
    }
   ],
   "source": [
    "%reset\n",
    "\n",
    "import matplotlib.pyplot as plt\n",
    "import pandas as pd\n",
    "import numpy as np\n",
    "import scipy.stats as stats"
   ]
  },
  {
   "cell_type": "code",
   "execution_count": 2,
   "metadata": {},
   "outputs": [
    {
     "name": "stdout",
     "output_type": "stream",
     "text": [
      "<class 'pandas.core.frame.DataFrame'>\n",
      "Int64Index: 1422 entries, 0 to 1421\n",
      "Data columns (total 7 columns):\n",
      "ID          1422 non-null object\n",
      "area        306 non-null float64\n",
      "garage      1422 non-null int64\n",
      "location    1422 non-null category\n",
      "pool        1422 non-null int64\n",
      "price       1123 non-null float64\n",
      "type        1422 non-null category\n",
      "dtypes: category(2), float64(2), int64(2), object(1)\n",
      "memory usage: 70.3+ KB\n"
     ]
    }
   ],
   "source": [
    "#read data\n",
    "data = pd.read_pickle('./data/properties.pkl')\n",
    "data.info()"
   ]
  },
  {
   "cell_type": "markdown",
   "metadata": {},
   "source": [
    "## Identify a Correlation"
   ]
  },
  {
   "cell_type": "code",
   "execution_count": 3,
   "metadata": {},
   "outputs": [
    {
     "data": {
      "text/html": [
       "<div>\n",
       "<style scoped>\n",
       "    .dataframe tbody tr th:only-of-type {\n",
       "        vertical-align: middle;\n",
       "    }\n",
       "\n",
       "    .dataframe tbody tr th {\n",
       "        vertical-align: top;\n",
       "    }\n",
       "\n",
       "    .dataframe thead th {\n",
       "        text-align: right;\n",
       "    }\n",
       "</style>\n",
       "<table border=\"1\" class=\"dataframe\">\n",
       "  <thead>\n",
       "    <tr style=\"text-align: right;\">\n",
       "      <th></th>\n",
       "      <th>price</th>\n",
       "      <th>area</th>\n",
       "    </tr>\n",
       "  </thead>\n",
       "  <tbody>\n",
       "    <tr>\n",
       "      <th>count</th>\n",
       "      <td>2.370000e+02</td>\n",
       "      <td>237.000000</td>\n",
       "    </tr>\n",
       "    <tr>\n",
       "      <th>mean</th>\n",
       "      <td>5.245300e+05</td>\n",
       "      <td>259.599156</td>\n",
       "    </tr>\n",
       "    <tr>\n",
       "      <th>std</th>\n",
       "      <td>5.695864e+05</td>\n",
       "      <td>634.595744</td>\n",
       "    </tr>\n",
       "    <tr>\n",
       "      <th>min</th>\n",
       "      <td>7.760000e+04</td>\n",
       "      <td>0.000000</td>\n",
       "    </tr>\n",
       "    <tr>\n",
       "      <th>25%</th>\n",
       "      <td>2.460000e+05</td>\n",
       "      <td>107.000000</td>\n",
       "    </tr>\n",
       "    <tr>\n",
       "      <th>50%</th>\n",
       "      <td>3.400000e+05</td>\n",
       "      <td>150.000000</td>\n",
       "    </tr>\n",
       "    <tr>\n",
       "      <th>75%</th>\n",
       "      <td>6.000000e+05</td>\n",
       "      <td>200.000000</td>\n",
       "    </tr>\n",
       "    <tr>\n",
       "      <th>max</th>\n",
       "      <td>6.300000e+06</td>\n",
       "      <td>7000.000000</td>\n",
       "    </tr>\n",
       "  </tbody>\n",
       "</table>\n",
       "</div>"
      ],
      "text/plain": [
       "              price         area\n",
       "count  2.370000e+02   237.000000\n",
       "mean   5.245300e+05   259.599156\n",
       "std    5.695864e+05   634.595744\n",
       "min    7.760000e+04     0.000000\n",
       "25%    2.460000e+05   107.000000\n",
       "50%    3.400000e+05   150.000000\n",
       "75%    6.000000e+05   200.000000\n",
       "max    6.300000e+06  7000.000000"
      ]
     },
     "execution_count": 3,
     "metadata": {},
     "output_type": "execute_result"
    }
   ],
   "source": [
    "corr = pd.DataFrame({'price':data['price'], 'area':data['area']})\n",
    "corr = corr.dropna()\n",
    "corr.describe()"
   ]
  },
  {
   "cell_type": "markdown",
   "metadata": {},
   "source": [
    "Scatter plot to see if there seems to be a correlation"
   ]
  },
  {
   "cell_type": "code",
   "execution_count": 4,
   "metadata": {},
   "outputs": [
    {
     "data": {
      "text/plain": [
       "Text(0,0.5,'Area (sq. meters)')"
      ]
     },
     "execution_count": 4,
     "metadata": {},
     "output_type": "execute_result"
    },
    {
     "data": {
      "image/png": "[encoded data removed]",
      "text/plain": [
       "<Figure size 432x288 with 1 Axes>"
      ]
     },
     "metadata": {
      "needs_background": "light"
     },
     "output_type": "display_data"
    }
   ],
   "source": [
    "plt.figure()\n",
    "plt.plot(corr['price'], corr['area'],'x')\n",
    "plt.title('Price vs. Area Relation')\n",
    "plt.xlabel('Price (Euro)')\n",
    "plt.ylabel('Area (sq. meters)')"
   ]
  },
  {
   "cell_type": "code",
   "execution_count": 5,
   "metadata": {},
   "outputs": [
    {
     "data": {
      "image/png": "[encoded data removed]",
      "text/plain": [
       "<Figure size 432x288 with 1 Axes>"
      ]
     },
     "metadata": {
      "needs_background": "light"
     },
     "output_type": "display_data"
    }
   ],
   "source": [
    "#look more closely at the bunched up data\n",
    "plt.figure()\n",
    "plt.plot(corr['price'], corr['area'],'x')\n",
    "plt.title('Price vs. Area Relation')\n",
    "plt.xlabel('Price (Euro)')\n",
    "plt.ylabel('Area (sq. meters)')\n",
    "plt.xlim(0,3000000)\n",
    "plt.savefig('./plots/correlation.png',bbox_inches='tight')"
   ]
  },
  {
   "cell_type": "markdown",
   "metadata": {},
   "source": [
    "Run the pearson correlation test"
   ]
  },
  {
   "cell_type": "code",
   "execution_count": 32,
   "metadata": {},
   "outputs": [
    {
     "name": "stdout",
     "output_type": "stream",
     "text": [
      "Correlation Coefficient: 0.4861296856005385\n",
      "p-value: 1.8425156591037824e-15\n"
     ]
    }
   ],
   "source": [
    "corr, pvalue = stats.pearsonr(corr['price'],corr['area'])\n",
    "print('Correlation Coefficient: ' + str(corr))\n",
    "print('p-value: ' + str(pvalue))"
   ]
  },
  {
   "cell_type": "markdown",
   "metadata": {},
   "source": [
    "Since p-value < 0.01, we are 99% confident the value is significant"
   ]
  },
  {
   "cell_type": "markdown",
   "metadata": {},
   "source": [
    "## Statistical Tests"
   ]
  },
  {
   "cell_type": "markdown",
   "metadata": {},
   "source": [
    "### Tests for Normality"
   ]
  },
  {
   "cell_type": "markdown",
   "metadata": {},
   "source": [
    "H_0: The data comes from a normal distribution  \n",
    "H_1: The data does not come from a normal distribution"
   ]
  },
  {
   "cell_type": "markdown",
   "metadata": {},
   "source": [
    "#### Price"
   ]
  },
  {
   "cell_type": "code",
   "execution_count": 33,
   "metadata": {},
   "outputs": [
    {
     "name": "stdout",
     "output_type": "stream",
     "text": [
      "Test Statistic: 0.5068840980529785\n",
      "p-value: 0.0\n"
     ]
    }
   ],
   "source": [
    "w, pvalue = stats.shapiro(data['price'].dropna())\n",
    "print('Test Statistic: ' + str(w))\n",
    "print('p-value: ' + str(pvalue))"
   ]
  },
  {
   "cell_type": "markdown",
   "metadata": {},
   "source": [
    "Since the p-value is less than the 95% critical value (0.05), then we must reject H_0"
   ]
  },
  {
   "cell_type": "code",
   "execution_count": 45,
   "metadata": {},
   "outputs": [
    {
     "name": "stdout",
     "output_type": "stream",
     "text": [
      "Test Statistic: 122.76025380424221\n",
      "p-value: 0.915\n"
     ]
    }
   ],
   "source": [
    "a = stats.anderson(data['price'].dropna())\n",
    "print('Test Statistic: ' + str(a[0]))\n",
    "print('p-value: ' + str(a[1][3]))"
   ]
  },
  {
   "cell_type": "markdown",
   "metadata": {},
   "source": [
    "Since the p-value < the Test Statistic then we must reject H_0"
   ]
  },
  {
   "cell_type": "markdown",
   "metadata": {},
   "source": [
    "Both these tests tell us that the data is not coming from an underlying normal distribution"
   ]
  },
  {
   "cell_type": "code",
   "execution_count": 38,
   "metadata": {},
   "outputs": [
    {
     "name": "stdout",
     "output_type": "stream",
     "text": [
      "Mean: 390059.1184327694\n",
      "Variance: 172966930641.02246\n"
     ]
    }
   ],
   "source": [
    "mean = data['price'].dropna().mean()\n",
    "variance = (data['price'].dropna().std())**2\n",
    "print('Mean: ' + str(mean))\n",
    "print('Variance: ' + str(variance))"
   ]
  },
  {
   "cell_type": "markdown",
   "metadata": {},
   "source": [
    "#### Area"
   ]
  },
  {
   "cell_type": "code",
   "execution_count": 39,
   "metadata": {},
   "outputs": [
    {
     "name": "stdout",
     "output_type": "stream",
     "text": [
      "Test Statistic: 0.26117587089538574\n",
      "p-value: 4.261958643707674e-33\n"
     ]
    }
   ],
   "source": [
    "w, pvalue = stats.shapiro(data['area'].dropna())\n",
    "print('Test Statistic: ' + str(w))\n",
    "print('p-value: ' + str(pvalue))"
   ]
  },
  {
   "cell_type": "code",
   "execution_count": 40,
   "metadata": {},
   "outputs": [
    {
     "name": "stdout",
     "output_type": "stream",
     "text": [
      "Test Statistic: 65.63126567401628\n",
      "p-value: 0.777\n"
     ]
    }
   ],
   "source": [
    "a = stats.anderson(data['area'].dropna())\n",
    "print('Test Statistic: ' + str(a[0]))\n",
    "print('p-value: ' + str(a[1][2]))"
   ]
  },
  {
   "cell_type": "markdown",
   "metadata": {},
   "source": [
    "Similarly both these tests tell us that the data is not normally dstributed."
   ]
  },
  {
   "cell_type": "markdown",
   "metadata": {},
   "source": [
    "### Test to see if there's a significant difference in the area of the property if it has a garage"
   ]
  },
  {
   "cell_type": "markdown",
   "metadata": {},
   "source": [
    "Since the area is not normally distributed, we'll use the Mann Whitney-U Test rather than the independent sample t-test with continuity correction. "
   ]
  },
  {
   "cell_type": "code",
   "execution_count": 6,
   "metadata": {},
   "outputs": [],
   "source": [
    "df = pd.DataFrame({'area': data['area'],'garage': data['garage']}).dropna()"
   ]
  },
  {
   "cell_type": "code",
   "execution_count": 7,
   "metadata": {},
   "outputs": [
    {
     "name": "stdout",
     "output_type": "stream",
     "text": [
      "Number of readings with a garage: 66\n",
      "Number of readings without a garage: 234\n"
     ]
    }
   ],
   "source": [
    "print('Number of readings with a garage: ' + str(len(df[df['garage']==1])))\n",
    "print('Number of readings without a garage: ' + str(len(df[df['garage']==0])))"
   ]
  },
  {
   "cell_type": "code",
   "execution_count": 8,
   "metadata": {},
   "outputs": [
    {
     "name": "stdout",
     "output_type": "stream",
     "text": [
      "Statistic Value: 9853.0\n",
      "p-value: 0.00061620590432262\n"
     ]
    }
   ],
   "source": [
    "#Independent t-test since we want to test the difference between the 2 groups\n",
    "mw_stat, pvalue =  stats.mannwhitneyu(df[df['garage']==1]['area'],df[df['garage']==0]['area'],alternative='two-sided')\n",
    "print('Statistic Value: ' + str(mw_stat))\n",
    "print('p-value: ' + str(pvalue))"
   ]
  },
  {
   "cell_type": "markdown",
   "metadata": {},
   "source": [
    "H_0: The two groups have an equal average area  \n",
    "H_1: The two groups have a different average area\n",
    "\n",
    "Since p-value = 6.1e-4 < 0.01 then we have enough evidence to reject H_0, thus we can conclude that properties with a garage have a different average area to properties without  garage."
   ]
  },
  {
   "cell_type": "code",
   "execution_count": 51,
   "metadata": {},
   "outputs": [
    {
     "name": "stdout",
     "output_type": "stream",
     "text": [
      "Average Area of properties with a garage: 345.92424242424244\n",
      "Average Area of properties without a garage: 226.4102564102564\n"
     ]
    }
   ],
   "source": [
    "print('Average Area of properties with a garage: ' + str(df[df['garage']==1]['area'].mean()))\n",
    "print('Average Area of properties without a garage: ' + str(df[df['garage']==0]['area'].mean()))"
   ]
  },
  {
   "cell_type": "markdown",
   "metadata": {},
   "source": [
    "So we can conclude that properties with a garage tend to have a greater area than those without a garage"
   ]
  }
 ],
 "metadata": {
  "kernelspec": {
   "display_name": "Python 3",
   "language": "python",
   "name": "python3"
  },
  "language_info": {
   "codemirror_mode": {
    "name": "ipython",
    "version": 3
   },
   "file_extension": ".py",
   "mimetype": "text/x-python",
   "name": "python",
   "nbconvert_exporter": "python",
   "pygments_lexer": "ipython3",
   "version": "3.6.6"
  }
 },
 "nbformat": 4,
 "nbformat_minor": 2
}
