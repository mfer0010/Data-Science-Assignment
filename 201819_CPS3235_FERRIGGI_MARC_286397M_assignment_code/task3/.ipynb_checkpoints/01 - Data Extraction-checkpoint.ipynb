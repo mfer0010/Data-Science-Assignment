{
 "cells": [
  {
   "cell_type": "code",
   "execution_count": 85,
   "metadata": {},
   "outputs": [
    {
     "name": "stdout",
     "output_type": "stream",
     "text": [
      "Once deleted, variables cannot be recovered. Proceed (y/[n])? y\n"
     ]
    }
   ],
   "source": [
    "%reset\n",
    "\n",
    "import matplotlib.pyplot as plt\n",
    "import pandas as pd\n",
    "import numpy as np\n",
    "import re\n",
    "\n",
    "from bs4 import BeautifulSoup as bs\n",
    "from itertools import islice #to start iteration from a different line number"
   ]
  },
  {
   "cell_type": "code",
   "execution_count": 84,
   "metadata": {},
   "outputs": [
    {
     "name": "stdout",
     "output_type": "stream",
     "text": [
      "9\n"
     ]
    }
   ],
   "source": [
    "#WORKING\n",
    "#DO NOT RUN!!!!!!!!!\n",
    "#i = 1\n",
    "#with open('./data/raw/20180806_prop_for_sale_tom_classifieds.html') as fp:\n",
    "#    soup = bs(fp)\n",
    "#    listings = soup.find_all('li')\n",
    " #   text = listings[97].text\n",
    " #   print(text)\n",
    "  #  temp = re.search('(\\d+)sqm',text).group(1)\n",
    "   # print(int(temp))\n",
    "    \n",
    "   # print(listings[97]['name'])\n",
    "temp = 'asdasdasd'\n",
    "print(len(temp))"
   ]
  },
  {
   "cell_type": "code",
   "execution_count": 88,
   "metadata": {},
   "outputs": [
    {
     "name": "stdout",
     "output_type": "stream",
     "text": [
      "Scanning file 0: 20180905_prop_for_sale_tom_classifieds.html\n",
      "Scanning file 1: 20180905_prop_for_sale_tom_classifieds.html\n",
      "Scanning file 2: 20180905_prop_for_sale_tom_classifieds.html\n"
     ]
    }
   ],
   "source": [
    "#Initialize variables\n",
    "ID = []\n",
    "location = []\n",
    "price = []\n",
    "property_type = []\n",
    "area = []\n",
    "pool = []\n",
    "garage = []\n",
    "df = []\n",
    "\n",
    "#gather data from these files\n",
    "#taking a file for each month from August - October 2018\n",
    "files = ['20180806_prop_for_sale_tom_classifieds.html','20180905_prop_for_sale_tom_classifieds.html','20181008_prop_for_sale_tom_classifieds.html']\n",
    "\n",
    "#open the files of interest\n",
    "for i in range(0,3):\n",
    "    print('Scanning file ' + str(i) + ': ' + files[1])\n",
    "    with open('./data/raw/'+files[i]) as fp:\n",
    "        #read the html file using Beautiful Soup\n",
    "        soup = bs(fp)\n",
    "        #extract all the property listings in that file\n",
    "        #uls = soup.find_all('ul',atrrs={'class':'classified_list'})\n",
    "        listings = soup.find_all('li')\n",
    "        #For every list tag:\n",
    "        for tag in listings:\n",
    "            #Skip the tags that do not contain Property\n",
    "            if not ('Property For Sale' in tag.text):\n",
    "                continue\n",
    "            \n",
    "            text = tag.text.lower()\n",
    "            \n",
    "            #Get ID\n",
    "            try:\n",
    "                temp = tag['name']\n",
    "            except KeyError:\n",
    "                #print('Error:')\n",
    "                #print(text)\n",
    "                continue\n",
    "            ID.append(temp)\n",
    "            \n",
    "            #Get Location\n",
    "            temp = re.search('\\n(.+?(?=\\.))\\.',text)\n",
    "            if temp is None or len(temp.group(1)) > 25:\n",
    "                location.append('NA')\n",
    "            else:\n",
    "                location.append(temp.group(1))\n",
    "                \n",
    "            #Get Price\n",
    "            temp = re.search('\\.(.*\\d+\\,\\d+)\\.',text)#.group(1)\n",
    "            if temp is None:\n",
    "                price.append(-1) #indicates missing data point\n",
    "            elif temp.group(1) is None:\n",
    "                price.append(-1)\n",
    "            else:\n",
    "                temp = re.search('([\\d+|\\,]+$)',temp.group(1))\n",
    "                price.append(int(temp.group(1).replace(',','')))\n",
    "                \n",
    "            #Get Property Type\n",
    "            types = ['house','penthouse','maisonette','apartment','flat',\n",
    "                    'farmhouse','villa','house of character','block']\n",
    "            if any(j in text for j in types):\n",
    "                for _type in types:\n",
    "                    if _type in text:\n",
    "                        property_type.append(_type)\n",
    "                        break\n",
    "            else:\n",
    "                property_type.append('undefined')\n",
    "                \n",
    "            #Get Property Area\n",
    "            temp = re.search('(\\d+)sqm',text)\n",
    "            if temp is None:\n",
    "                area.append(-1)\n",
    "            else:\n",
    "                area.append(int(temp.group(1)))\n",
    "            \n",
    "            #Get Pool Data\n",
    "            if 'pool' in text:\n",
    "                pool.append(1)\n",
    "            else:\n",
    "                pool.append(0)\n",
    "            \n",
    "            #Get Garage Data\n",
    "            if 'garage optional' in text:\n",
    "                garage.append(2)\n",
    "            elif 'garage' in text:\n",
    "                garage.append(1)\n",
    "            else:\n",
    "                garage.append(0)\n",
    "        #Save to dataframe\n",
    "        #print(len(ID),len(location),len(price),len(property_type),len(area),len(garage),len(pool))\n",
    "        df.append(pd.DataFrame({'ID':ID, 'location':location,\n",
    "                              'price':price,'type':property_type,\n",
    "                              'area':area,'pool':pool,\n",
    "                              'garage':garage}))\n",
    "        \n",
    "            "
   ]
  },
  {
   "cell_type": "code",
   "execution_count": 91,
   "metadata": {},
   "outputs": [],
   "source": [
    "DataFrame1 = df[0]\n",
    "#DataFrame1.describe()\n",
    "DataFrame1['zzlocation'] = DataFrame1['location']\n",
    "DataFrame1['location'] = DataFrame1['location'].astype('category')"
   ]
  },
  {
   "cell_type": "code",
   "execution_count": 97,
   "metadata": {},
   "outputs": [
    {
     "data": {
      "text/plain": [
       "Index(['NA', 'attard', 'bahar iċ-ċagħaq', 'balzan', 'baħar iċ-ċagħaq',\n",
       "       'baħrija ', 'birguma', 'birkirkara', 'birkirkara, ta' paris',\n",
       "       'birzebuġġia', 'birżebbuġa', 'birżebbuġa, qajjenza', 'blata l-bajda',\n",
       "       'buskett', 'buġibba', 'buġibba (square area)', 'cospicua', 'dingli',\n",
       "       'fgura', 'floriana', 'gozo qala', 'gozo, għajnsielem', 'gozo, għarb',\n",
       "       'gozo, kerċem', 'gozo, marsalforn', 'gozo, munxar', 'gozo, nadur',\n",
       "       'gozo, qala', 'gozo, san lawrence', 'gozo, xagħra', 'gozo, xewkija',\n",
       "       'gozo, xlendi', 'gozo, żebbuġ', 'guardamangia', 'gudja', 'gwardamangia',\n",
       "       'għarghur', 'għargħur', 'għaxaq', 'gżira', 'kalkara', 'kappara',\n",
       "       'kirkop', 'lija', 'luqa', 'madliena', 'manikata', 'marsa', 'marsascala',\n",
       "       'marsaxlokk', 'mellieħa', 'mellieħa bay', 'mellieħa, (near ghadira)',\n",
       "       'mensija', 'monterosa garden' s', 'mosta', 'mosta (speranza)', 'mqabba',\n",
       "       'msida', 'msida circus', 'msida, rue d' argens', 'mġarr', 'naxxar',\n",
       "       'paola', 'pembroke', 'pender gardens', 'pietà', 'portomaso', 'qawra',\n",
       "       'qawra point', 'qormi', 'qrendi', 'rabat', 'safi', 'san pawl il-baħar',\n",
       "       'san pawl tat-tarġa', 'san ġwann', 'santa lucija', 'savoy garden' s',\n",
       "       'senglea', 'siġġiewi', 'sliema', 'sliema, best part',\n",
       "       'sliema, qui-si-sana', 'south area', 'st georges park', 'st julian' s',\n",
       "       'st julians', 'st paul' s', 'st paul' s bay', 'st venera', 'swatar',\n",
       "       'swatar area', 'swieqi', 'ta' qali', 'ta' xbiex', 'tal-ibraġ',\n",
       "       'tarxien', 'the village', 'tuscany', 'valletta', 'vittoriosa',\n",
       "       'xemxija', 'xemxija heights', 'xgħajra', 'ħamrun', 'żabbar', 'żebbiegħ',\n",
       "       'żebbuġ', 'żejtun', 'żurrieq'],\n",
       "      dtype='object')"
      ]
     },
     "execution_count": 97,
     "metadata": {},
     "output_type": "execute_result"
    }
   ],
   "source": [
    "pd.options.display.max_seq_items = 2000\n",
    "DataFrame1['location'].cat.categories"
   ]
  }
 ],
 "metadata": {
  "kernelspec": {
   "display_name": "Python 3",
   "language": "python",
   "name": "python3"
  },
  "language_info": {
   "codemirror_mode": {
    "name": "ipython",
    "version": 3
   },
   "file_extension": ".py",
   "mimetype": "text/x-python",
   "name": "python",
   "nbconvert_exporter": "python",
   "pygments_lexer": "ipython3",
   "version": "3.7.1"
  }
 },
 "nbformat": 4,
 "nbformat_minor": 2
}
