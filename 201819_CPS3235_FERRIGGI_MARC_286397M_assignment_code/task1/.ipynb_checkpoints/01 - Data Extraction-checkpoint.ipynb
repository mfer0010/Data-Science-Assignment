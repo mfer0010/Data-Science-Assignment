{
 "cells": [
  {
   "cell_type": "code",
   "execution_count": 38,
   "metadata": {},
   "outputs": [
    {
     "name": "stdout",
     "output_type": "stream",
     "text": [
      "Once deleted, variables cannot be recovered. Proceed (y/[n])? y\n"
     ]
    }
   ],
   "source": [
    "%reset\n",
    "\n",
    "import pandas as pd\n",
    "from lxml import etree #for XML manipulation\n",
    "import py2neo as neo\n",
    "import re"
   ]
  },
  {
   "cell_type": "code",
   "execution_count": 39,
   "metadata": {},
   "outputs": [],
   "source": [
    "#path to xml file as its saved outside my git repo:\n",
    "path = '../../../DataFiles/dblp.xml'\n",
    "#set up the parser with data type definition validation\n",
    "#parser = etree.XMLParser(dtd_validation=True)"
   ]
  },
  {
   "cell_type": "code",
   "execution_count": 40,
   "metadata": {},
   "outputs": [],
   "source": [
    "#this function returns (yields) a generator, so when the function is called,\n",
    "#it is not run. This is so that we don't have to store the data in memory, we\n",
    "#can simply work with it and discard it\n",
    "def iterate_xml(path):\n",
    "    doc = etree.iterparse(path,events=('start','end'),dtd_validation=True)\n",
    "    _, root = next(doc)\n",
    "    start_tag = None\n",
    "    for event, element in doc:\n",
    "        if event == 'start' and start_tag is None:\n",
    "            start_tag = element.tag\n",
    "        if event == 'end' and element.tag == start_tag:\n",
    "            yield element\n",
    "            start_tag = None\n",
    "            root.clear()"
   ]
  },
  {
   "cell_type": "code",
   "execution_count": 41,
   "metadata": {},
   "outputs": [
    {
     "data": {
      "text/plain": [
       "<generator object iterate_xml at 0x7efc2241a258>"
      ]
     },
     "execution_count": 41,
     "metadata": {},
     "output_type": "execute_result"
    }
   ],
   "source": [
    "generator = iterate_xml(path)\n",
    "generator"
   ]
  },
  {
   "cell_type": "code",
   "execution_count": 67,
   "metadata": {},
   "outputs": [
    {
     "name": "stdout",
     "output_type": "stream",
     "text": [
      "_______________________\n",
      "Key: journals/acta/Martin83\n",
      "A General Proof Rule for Procedures in Predicate Transformer Semantics.\n",
      "Bruce Russell\n",
      "_______________________\n",
      "Key: journals/acta/AdamsGV79\n",
      "An Experimentally Validated Model of the Paging Drum.\n",
      "Bruce Russell\n",
      "_______________________\n",
      "Key: journals/acta/BookC76\n",
      "Inherently Nonplanar Automata.\n",
      "Bruce Russell\n",
      "_______________________\n",
      "Key: journals/acta/CoffmanDW02\n",
      "Packing rectangles in a strip.\n",
      "Bruce Russell\n",
      "_______________________\n",
      "Key: journals/acta/AroraJSMC06\n",
      "Throughput analysis in wireless networks with multiple users and multiple channels.\n",
      "Bruce Russell\n",
      "_______________________\n",
      "Key: journals/acta/Deussen78\n",
      "A Unified Approach to the Generation and the Acception of Formal Languages.\n",
      "Bruce Russell\n",
      "_______________________\n",
      "Key: journals/acta/GergelyU82\n",
      "A Theory of Interactive Programming.\n",
      "Bruce Russell\n",
      "_______________________\n",
      "Key: journals/acta/LiZPDZ16\n",
      "Analysis of dual-hop and multiple relays cooperative truncated ARQ with relay selection in WSNs.\n",
      "Bruce Russell\n",
      "_______________________\n",
      "Key: journals/acta/Dunne85\n",
      "A 2.5<i>n</i> Lower Bound on the Monotone Network Complexity of T_3^n.\n",
      "Bruce Russell\n",
      "_______________________\n",
      "Key: journals/acta/IbarraK84\n",
      "A Characterization of Systolic Binary Tree Automata and Applications.\n",
      "Bruce Russell\n",
      "_______________________\n",
      "Key: journals/acta/LocuratoloR98\n",
      "Conceptual Classes and System Classes in Object Databases.\n",
      "Bruce Russell\n",
      "_______________________\n",
      "Key: journals/acta/Gonczarowski85\n",
      "Decidable Properties of Monadic Recursive Schemas With a Depth Parameter.\n",
      "Bruce Russell\n",
      "_______________________\n",
      "Key: journals/acta/KinoshitaP00\n",
      "Data Refinement and Algebraic Structure.\n",
      "Bruce Russell\n",
      "_______________________\n",
      "Key: journals/acta/Bouchet79\n",
      "Proc&#233;dures de reprise dans les syst&#232;mes de gestion de base de donn&#233;es r&#233;parties.\n",
      "Bruce Russell\n",
      "_______________________\n",
      "Key: journals/acta/Brandwajn76\n",
      "A Model of a Virtual Memory System.\n",
      "Bruce Russell\n",
      "_______________________\n",
      "Key: journals/acta/TipS00\n",
      "Class Hierarchy Specialization.\n",
      "Bruce Russell\n",
      "_______________________\n",
      "Key: journals/acta/Clint73\n",
      "Program Proving: Coroutines.\n",
      "Bruce Russell\n",
      "_______________________\n",
      "Key: journals/acta/BonnetP18\n",
      "Sparsification and subexponential approximation.\n",
      "Bruce Russell\n",
      "_______________________\n",
      "Key: journals/acta/BusscheC98\n",
      "Converting Untyped Formulas to Typed Ones.\n",
      "Bruce Russell\n",
      "_______________________\n",
      "Key: journals/acta/CulikA73\n",
      "Sequential and Jumping Machines and their Relation to Computers\n",
      "Bruce Russell\n",
      "_______________________\n",
      "Key: journals/acta/KedemS81\n",
      "A Characterization of Database Graphs Admitting a Simple Locking Protocol.\n",
      "Bruce Russell\n",
      "_______________________\n",
      "Key: journals/acta/DewarMS82\n",
      "Some Modified Algorithms for Dijkstra's Longest Upsequence Problem.\n",
      "Bruce Russell\n",
      "_______________________\n",
      "Key: journals/acta/PerrinP71\n",
      "Congruences et Automorphismes des Automates Finis.\n",
      "Bruce Russell\n",
      "_______________________\n",
      "Key: journals/acta/BoassonCN73\n",
      "Familles de langages translatables et ferm&#233;es par crochet\n",
      "Bruce Russell\n",
      "_______________________\n",
      "Key: journals/acta/Nain82\n",
      "Partage de t&#226;ches entre processeurs homogenes.\n",
      "Bruce Russell\n",
      "_______________________\n",
      "Key: journals/acta/LangenhopW89\n",
      "A Model of the Dynamic Behavior of B-Trees.\n",
      "Bruce Russell\n",
      "_______________________\n",
      "Key: journals/acta/LeveneL91\n",
      "Correction to Null Values in Nested Relational Databases by Mark A. Roth, H. F. Korth, and A. Silberschatz.\n",
      "Bruce Russell\n",
      "_______________________\n",
      "Key: journals/acta/Soisalon-SoininenU79\n",
      "A Method for Transforming Grammars into LL(k) Form.\n",
      "Bruce Russell\n",
      "_______________________\n",
      "Key: journals/acta/Epstein10\n",
      "Equilibria for two parallel links: the strong price of anarchy versus the price of anarchy.\n",
      "Bruce Russell\n",
      "_______________________\n",
      "Key: journals/acta/SchmittS05\n",
      "A comprehensive database schema integration method based on the theory of formal concepts.\n",
      "Bruce Russell\n",
      "_______________________\n",
      "Key: journals/acta/KrivanekM86\n",
      "<i> NP </i> -Hard Problems in Hierarchical-Tree Clustering.\n",
      "Bruce Russell\n"
     ]
    }
   ],
   "source": [
    "i = 0\n",
    "for event in generator:\n",
    "    print('_______________________')\n",
    "    print('Key: ' + str(event.attrib['key']))\n",
    "    xml = etree.tostring(event.find('title')).decode('utf-8') \n",
    "    title = re.search('<title>(.+?)</title>',xml).group(1)\n",
    "    print(title)\n",
    "    for author in auth_list:\n",
    "        xml = etree.tostring(author).decode('utf-8')\n",
    "        author = re.search('<author>(.+?)</author>',xml).group(1)\n",
    "        print(author)\n",
    "\n",
    "    i = i+1\n",
    "    if i>30:\n",
    "        break"
   ]
  },
  {
   "cell_type": "markdown",
   "metadata": {},
   "source": [
    "Connect to neo4j server"
   ]
  },
  {
   "cell_type": "code",
   "execution_count": 80,
   "metadata": {},
   "outputs": [],
   "source": [
    "#note, server must be running on localhost \n",
    "#sudo service neo4j start\n",
    "from py2neo import Graph, Node\n",
    "\n",
    "graph = Graph('bolt://localhost:7687', auth=('neo4j','ItIsABadIdeaToHardCodePasswords'))"
   ]
  },
  {
   "cell_type": "code",
   "execution_count": null,
   "metadata": {},
   "outputs": [],
   "source": [
    "#Set Uniqueness Constraints on Nodes\n",
    "graph.schema.create_uniqueness_constraint('Article', 'key')\n",
    "graph.schema.create_uniqueness_constraint('Author', 'name')"
   ]
  },
  {
   "cell_type": "markdown",
   "metadata": {},
   "source": [
    "Reset the generator"
   ]
  },
  {
   "cell_type": "code",
   "execution_count": 81,
   "metadata": {},
   "outputs": [
    {
     "name": "stdout",
     "output_type": "stream",
     "text": [
      "_______________________\n",
      "Key: journals/acta/Saxena96\n",
      "Parallel Integer Sorting and Simulation Amongst CRCW Models.\n"
     ]
    },
    {
     "ename": "TypeError",
     "evalue": "merge() got an unexpected keyword argument 'property_key'",
     "output_type": "error",
     "traceback": [
      "\u001b[0;31m---------------------------------------------------------------------------\u001b[0m",
      "\u001b[0;31mTypeError\u001b[0m                                 Traceback (most recent call last)",
      "\u001b[0;32m<ipython-input-81-7aaa8bf86fa0>\u001b[0m in \u001b[0;36m<module>\u001b[0;34m\u001b[0m\n\u001b[1;32m     15\u001b[0m     \u001b[0;31m#save the node\u001b[0m\u001b[0;34m\u001b[0m\u001b[0;34m\u001b[0m\u001b[0m\n\u001b[1;32m     16\u001b[0m     \u001b[0;31m#article = Node('Article', key=key, title=title)\u001b[0m\u001b[0;34m\u001b[0m\u001b[0;34m\u001b[0m\u001b[0m\n\u001b[0;32m---> 17\u001b[0;31m     \u001b[0marticle\u001b[0m \u001b[0;34m=\u001b[0m \u001b[0mgraph\u001b[0m\u001b[0;34m.\u001b[0m\u001b[0mmerge\u001b[0m\u001b[0;34m(\u001b[0m\u001b[0;34m'Article'\u001b[0m\u001b[0;34m,\u001b[0m\u001b[0mproperty_key\u001b[0m\u001b[0;34m=\u001b[0m\u001b[0;34m'key'\u001b[0m\u001b[0;34m,\u001b[0m\u001b[0mproperty_value\u001b[0m\u001b[0;34m=\u001b[0m\u001b[0mkey\u001b[0m\u001b[0;34m)\u001b[0m\u001b[0;34m\u001b[0m\u001b[0m\n\u001b[0m\u001b[1;32m     18\u001b[0m     \u001b[0marticle\u001b[0m\u001b[0;34m[\u001b[0m\u001b[0;34m'title'\u001b[0m\u001b[0;34m]\u001b[0m\u001b[0;34m=\u001b[0m\u001b[0mtitle\u001b[0m\u001b[0;34m\u001b[0m\u001b[0m\n\u001b[1;32m     19\u001b[0m     \u001b[0marticle\u001b[0m\u001b[0;34m.\u001b[0m\u001b[0mpush\u001b[0m\u001b[0;34m(\u001b[0m\u001b[0;34m)\u001b[0m\u001b[0;34m\u001b[0m\u001b[0m\n",
      "\u001b[0;31mTypeError\u001b[0m: merge() got an unexpected keyword argument 'property_key'"
     ]
    }
   ],
   "source": [
    "generator = iterate_xml(path)\n",
    "\n",
    "#delete all nodes, used when testing out the program to start fresh each time\n",
    "#graph.delete_all()\n",
    "\n",
    "\n",
    "i = 0\n",
    "for event in generator:\n",
    "    print('_______________________')\n",
    "    key = str(event.attrib['key'])\n",
    "    print('Key: ' + key)\n",
    "    xml = etree.tostring(event.find('title')).decode('utf-8') \n",
    "    title = re.search('<title>(.+?)</title>',xml).group(1)\n",
    "    print(title)\n",
    "    #save the node\n",
    "    #article = Node('Article', key=key, title=title)\n",
    "    article = graph.merge('Article',property_key='key',property_value=key)\n",
    "    article['title']=title\n",
    "    article.push()\n",
    "    \n",
    "    auth_list = event.findall('author')    \n",
    "    for author in auth_list:\n",
    "        xml = etree.tostring(author).decode('utf-8')\n",
    "        name = re.search('<author>(.+?)</author>',xml).group(1)\n",
    "        print(name)\n",
    "        #save the node\n",
    "        #author_node = Node('Author', name=name, department=None)\n",
    "        author = graph.merge('Author',property_key='name',property_value=name)\n",
    "        author.push()\n",
    "        \n",
    "    i = i+1\n",
    "    if i>30:\n",
    "        break"
   ]
  }
 ],
 "metadata": {
  "kernelspec": {
   "display_name": "Python 3",
   "language": "python",
   "name": "python3"
  },
  "language_info": {
   "codemirror_mode": {
    "name": "ipython",
    "version": 3
   },
   "file_extension": ".py",
   "mimetype": "text/x-python",
   "name": "python",
   "nbconvert_exporter": "python",
   "pygments_lexer": "ipython3",
   "version": "3.6.6"
  }
 },
 "nbformat": 4,
 "nbformat_minor": 2
}
